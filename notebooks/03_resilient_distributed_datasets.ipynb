{
 "cells": [
  {
   "cell_type": "code",
   "execution_count": 2,
   "id": "cb1f53da-ccd0-4c3f-9b5e-4bc8961842db",
   "metadata": {},
   "outputs": [
    {
     "name": "stderr",
     "output_type": "stream",
     "text": [
      "24/05/29 21:43:57 WARN Utils: Service 'SparkUI' could not bind on port 4040. Attempting port 4041.\n",
      "                                                                                \r"
     ]
    },
    {
     "name": "stdout",
     "output_type": "stream",
     "text": [
      "[('sentence', 2), ('More', 1), ('to', 1), ('be', 1), ('counted', 1), ('Another', 1), ('with', 1), ('is', 1), ('This', 1), ('a', 1), ('words', 2)]\n"
     ]
    }
   ],
   "source": [
    "# Import SparkContext\n",
    "from pyspark.sql import SparkSession\n",
    "\n",
    "# Create SparkSession\n",
    "spark = SparkSession.builder.appName(\"WordCount\").getOrCreate()\n",
    "\n",
    "# Define a list of sentences (simulating text data)\n",
    "data = [\"This is a sentence\", \"Another sentence with words\", \"More words to be counted\"]\n",
    "\n",
    "# Parallelize the data into an RDD\n",
    "rdd = spark.sparkContext.parallelize(data)\n",
    "\n",
    "# Split each sentence into words\n",
    "words = rdd.flatMap(lambda sentence: sentence.split(\" \"))\n",
    "\n",
    "# Create key-value pairs with (word, 1) for counting\n",
    "word_counts = words.map(lambda word: (word, 1))\n",
    "\n",
    "# ReduceByKey to sum the counts for each word\n",
    "result = word_counts.reduceByKey(lambda x, y: x + y)\n",
    "\n",
    "# Print the word counts\n",
    "print(result.collect())\n",
    "\n",
    "# Stop SparkSession\n",
    "spark.stop()\n"
   ]
  },
  {
   "cell_type": "code",
   "execution_count": 3,
   "id": "f79ff381-0cb3-4788-9ded-d49466e9af6a",
   "metadata": {},
   "outputs": [
    {
     "name": "stderr",
     "output_type": "stream",
     "text": [
      "24/05/29 21:43:59 WARN Utils: Service 'SparkUI' could not bind on port 4040. Attempting port 4041.\n"
     ]
    },
    {
     "data": {
      "text/html": [
       "\n",
       "            <div>\n",
       "                <p><b>SparkSession - in-memory</b></p>\n",
       "                \n",
       "        <div>\n",
       "            <p><b>SparkContext</b></p>\n",
       "\n",
       "            <p><a href=\"http://6989da953972:4041\">Spark UI</a></p>\n",
       "\n",
       "            <dl>\n",
       "              <dt>Version</dt>\n",
       "                <dd><code>v3.5.1</code></dd>\n",
       "              <dt>Master</dt>\n",
       "                <dd><code>local[*]</code></dd>\n",
       "              <dt>AppName</dt>\n",
       "                <dd><code>demo</code></dd>\n",
       "            </dl>\n",
       "        </div>\n",
       "        \n",
       "            </div>\n",
       "        "
      ],
      "text/plain": [
       "<pyspark.sql.session.SparkSession at 0x7fa3fbdb2040>"
      ]
     },
     "execution_count": 3,
     "metadata": {},
     "output_type": "execute_result"
    }
   ],
   "source": [
    "from pyspark.sql import SparkSession\n",
    "\n",
    "spark = SparkSession.builder \\\n",
    "  .appName(\"demo\") \\\n",
    "  .config(\"spark.deploy.mode\", \"cluster\") \\\n",
    "  .getOrCreate()\n",
    "spark"
   ]
  },
  {
   "cell_type": "code",
   "execution_count": 4,
   "id": "a76d980c-df74-474d-be55-01d917f10873",
   "metadata": {},
   "outputs": [
    {
     "data": {
      "text/plain": [
       "data/*.txt MapPartitionsRDD[1] at textFile at NativeMethodAccessorImpl.java:0"
      ]
     },
     "execution_count": 4,
     "metadata": {},
     "output_type": "execute_result"
    }
   ],
   "source": [
    "text_file = spark.sparkContext.textFile(\"data/*.txt\")\n",
    "text_file"
   ]
  },
  {
   "cell_type": "code",
   "execution_count": 5,
   "id": "8c83b6ad-e83f-4743-b28e-4166a3352299",
   "metadata": {},
   "outputs": [
    {
     "name": "stderr",
     "output_type": "stream",
     "text": [
      "                                                                                \r"
     ]
    }
   ],
   "source": [
    "counts = (\n",
    "    text_file.flatMap(lambda line: line.split(\" \"))\n",
    "    .map(lambda word: (word, 1))\n",
    "    .reduceByKey(lambda a, b: a + b)\n",
    ")\n",
    "counts.collect()\n"
   ]
  },
  {
   "cell_type": "code",
   "execution_count": null,
   "id": "f93d95ee-aff2-401d-8617-864547c9d13c",
   "metadata": {},
   "outputs": [],
   "source": []
  }
 ],
 "metadata": {
  "kernelspec": {
   "display_name": "Python 3 (ipykernel)",
   "language": "python",
   "name": "python3"
  },
  "language_info": {
   "codemirror_mode": {
    "name": "ipython",
    "version": 3
   },
   "file_extension": ".py",
   "mimetype": "text/x-python",
   "name": "python",
   "nbconvert_exporter": "python",
   "pygments_lexer": "ipython3",
   "version": "3.9.18"
  }
 },
 "nbformat": 4,
 "nbformat_minor": 5
}
