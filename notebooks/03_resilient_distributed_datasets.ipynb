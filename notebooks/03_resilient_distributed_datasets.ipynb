{
 "cells": [
  {
   "cell_type": "code",
   "execution_count": 1,
   "id": "f3792685-ba4f-4922-8983-4095b52a0c70",
   "metadata": {},
   "outputs": [
    {
     "name": "stderr",
     "output_type": "stream",
     "text": [
      "24/05/29 21:09:43 WARN SparkSession: Using an existing Spark session; only runtime SQL configurations will take effect.\n"
     ]
    },
    {
     "data": {
      "text/html": [
       "\n",
       "            <div>\n",
       "                <p><b>SparkSession - in-memory</b></p>\n",
       "                \n",
       "        <div>\n",
       "            <p><b>SparkContext</b></p>\n",
       "\n",
       "            <p><a href=\"http://0bf7f7a6a913:4041\">Spark UI</a></p>\n",
       "\n",
       "            <dl>\n",
       "              <dt>Version</dt>\n",
       "                <dd><code>v3.5.1</code></dd>\n",
       "              <dt>Master</dt>\n",
       "                <dd><code>local[*]</code></dd>\n",
       "              <dt>AppName</dt>\n",
       "                <dd><code>PySparkShell</code></dd>\n",
       "            </dl>\n",
       "        </div>\n",
       "        \n",
       "            </div>\n",
       "        "
      ],
      "text/plain": [
       "<pyspark.sql.session.SparkSession at 0x7fdf3eb1f250>"
      ]
     },
     "execution_count": 1,
     "metadata": {},
     "output_type": "execute_result"
    }
   ],
   "source": [
    "from pyspark.sql import SparkSession\n",
    "\n",
    "spark = SparkSession.builder \\\n",
    "  .appName(\"demo\") \\\n",
    "  .config(\"spark.ui.port\", \"4041\") \\\n",
    "  .config(\"spark.deploy.mode\", \"cluster\") \\\n",
    "  .getOrCreate()\n",
    "spark"
   ]
  },
  {
   "cell_type": "code",
   "execution_count": 2,
   "id": "a76d980c-df74-474d-be55-01d917f10873",
   "metadata": {},
   "outputs": [
    {
     "data": {
      "text/plain": [
       "data/*.txt MapPartitionsRDD[1] at textFile at NativeMethodAccessorImpl.java:0"
      ]
     },
     "execution_count": 2,
     "metadata": {},
     "output_type": "execute_result"
    }
   ],
   "source": [
    "text_file = spark.sparkContext.textFile(\"data/*.txt\")\n",
    "text_file"
   ]
  },
  {
   "cell_type": "code",
   "execution_count": 3,
   "id": "8c83b6ad-e83f-4743-b28e-4166a3352299",
   "metadata": {},
   "outputs": [
    {
     "name": "stderr",
     "output_type": "stream",
     "text": [
      "[Stage 0:>                                                          (0 + 2) / 2]\r"
     ]
    },
    {
     "name": "stdout",
     "output_type": "stream",
     "text": [
      "[('The', 6), ('quick', 1), ('dog.', 1), ('is', 7), ('purposes.', 1), ('It', 5), ('counting', 3), ('Spark', 25), ('use', 3), ('large', 3), ('datasets', 2), ('efficiently.', 2), ('demonstrates', 1), ('basic', 1), ('example.', 1), ('power', 4), ('of', 12), ('analysis.', 4), ('are', 7), ('exciting', 1), ('analytics', 1), ('machine', 3), ('learning,', 1), ('endless.', 1), ('handle', 3), ('semi-structured,', 1), ('data.', 11), ('social', 1), ('potential', 2), ('constantly', 2), ('scientists', 1), ('Its', 2), ('scalability', 1), ('make', 5), ('tool.', 1), ('delve', 1), ('deeper', 1), ('into', 2), ('further.', 1), ('resources', 1), ('more', 1), ('Spark.', 5), ('documentation', 1), ('online', 1), ('courses,', 1), ('communities', 1), ('dedicated', 1), ('become', 1), ('proficient', 1), ('in', 6), ('using', 1), ('help', 2), ('unlock', 3), ('data-driven', 3), ('solve', 1), ('problems.', 1), ('way', 1), ('we', 4), ('aspect', 1), ('modern', 1), ('decision-making.', 2), ('choices.', 1), ('us', 5), ('at', 1), ('ease.', 1), ('datasets.', 1), ('uncover', 1), ('hidden', 1), ('These', 1), ('guide', 1), ('towards', 1), ('solutions.', 1), ('used', 2), ('industries,', 1), ('retail.', 1), ('businesses', 1), ('process', 1), ('allowing', 1), ('leverage', 2), ('Spark,', 1), ('raw', 1), ('actionable', 1), ('insights.', 1), ('technology', 1), ('evolves,', 1), ('do', 1), ('side.', 1), ('an', 1), ('open-source', 1), ('platform,', 1), ('making', 2), ('accessible', 1), ('fosters', 1), ('vibrant', 1), ('community', 2), ('developers', 1), ('users.', 1), ('contributes', 1), ('development', 1), ('innovation.', 1), ('push', 1), ('ready', 1), ('journey', 1), ('Spark?', 1), ('started', 1), ('today!', 1), ('Numbers', 1), ('vital', 1), ('like', 3), ('integers', 1), ('floats.', 1), ('example,', 1), ('as', 1), ('supports', 1), ('time-series', 1), ('useful', 1), ('flags', 1), ('effectively', 1), ('work', 1), ('these', 1), ('different', 1), ('comprehensive', 1), ('effectively.', 1), ('integrates', 1), ('Plotly', 1), ('creating', 1), ('trends,', 1), ('patterns,', 1), ('relationships', 1), ('other', 1), ('visual', 1), ('representations', 1), ('communicate', 1), ('clear', 1), ('concise', 1), ('visualizations', 1), ('tell', 1), ('story', 1), ('extends', 1), ('beyond', 1), ('learning', 2), ('models.', 1), ('MLlib', 1), ('provides', 1), ('tools', 1), ('algorithms', 1), ('classification,', 1), ('regression,', 1), ('clustering.', 1), (\"Spark's\", 1), ('brown', 1), ('fox', 1), ('jumps', 1), ('over', 2), ('the', 10), ('lazy', 1), ('This', 7), ('a', 15), ('sample', 1), ('text', 1), ('file', 2), ('for', 14), ('demonstration', 1), ('contains', 1), ('various', 4), ('words', 1), ('to', 20), ('showcase', 1), ('word', 3), ('functionality.', 1), ('powerful', 1), ('tool', 2), ('distributed', 3), ('data', 17), ('processing.', 1), ('We', 5), ('can', 19), ('it', 5), ('analyze', 4), (\"Let's\", 6), ('explore', 2), ('There', 3), ('many', 2), ('applications', 4), ('technology.', 1), ('From', 1), ('big', 1), ('possibilities', 2), ('structured,', 1), ('and', 25), ('unstructured', 1), ('makes', 1), ('versatile', 1), ('processing', 3), ('tasks.', 1), ('sensor', 2), ('data,', 2), ('media', 1), ('feeds,', 1), ('more.', 1), ('vast', 2), ('evolving.', 1), ('popular', 1), ('choice', 1), ('engineers.', 1), ('ease', 1), ('valuable', 3), ('its', 3), ('capabilities', 3), ('available', 1), ('learn', 1), ('about', 2), ('great', 1), ('place', 1), ('start.', 1), ('also', 2), ('tutorials,', 1), ('With', 2), ('little', 1), ('effort,', 1), ('you', 4), ('insights', 4), ('from', 2), ('your', 2), ('empower', 1), ('decisions', 2), ('complex', 3), ('embrace', 2), ('transform', 2), ('Data', 2), ('analysis', 3), ('crucial', 1), ('By', 1), ('understanding', 1), ('our', 6), ('informed', 1), ('empowers', 3), ('scale', 1), ('with', 7), ('efficient', 1), ('patterns', 1), ('trends', 2), ('within', 2), ('better', 2), ('strategies', 1), ('be', 3), ('including', 1), ('finance,', 1), ('healthcare,', 1), ('helps', 1), ('gain', 1), ('their', 1), ('lies', 1), ('ability', 1), ('workloads.', 1), ('real-time,', 1), ('faster', 1), ('achieve', 1), ('outcomes.', 1), ('expanding.', 1), ('As', 1), ('so', 1), ('future', 1), ('by', 1), ('wide', 1), ('audience.', 1), ('ongoing', 1), ('Together,', 1), ('boundaries', 1), ('Are', 1), ('embark', 1), ('on', 2), ('exploration', 1), ('get', 1), ('play', 1), ('role', 1), ('numerical', 2), ('types', 2), ('For', 1), ('sales', 1), ('figures,', 1), ('product', 1), ('prices,', 1), ('or', 3), ('readings', 1), ('represented', 1), ('timestamps', 1), ('analyzing', 1), ('allows', 1), ('track', 1), ('changes', 1), ('time.', 1), ('Boolean', 1), ('values', 1), ('(True/False)', 1), ('representing', 1), ('categorical', 1), ('visualization', 1), ('key', 1), ('communicating', 1), ('libraries', 1), ('Matplotlib', 1), ('visualizations.', 1), ('visualize', 1), ('Charts,', 1), ('graphs,', 1), ('ideas', 1), ('manner.', 1), ('create', 1), ('compelling', 1), ('that', 1), ('building', 2), ('train', 1), ('models', 1), ('opens', 1), ('doors', 1), ('intelligent', 1), ('predictions.', 1)]\n"
     ]
    },
    {
     "name": "stderr",
     "output_type": "stream",
     "text": [
      "                                                                                \r"
     ]
    }
   ],
   "source": [
    "counts = (\n",
    "    text_file.flatMap(lambda line: line.split(\" \"))\n",
    "    .map(lambda word: (word, 1))\n",
    "    .reduceByKey(lambda a, b: a + b)\n",
    ")\n",
    "counts.collect()\n",
    "print(counts.collect())"
   ]
  },
  {
   "cell_type": "code",
   "execution_count": null,
   "id": "b0903c86-b558-40c7-bf9a-2ff87a3df5b6",
   "metadata": {},
   "outputs": [],
   "source": []
  }
 ],
 "metadata": {
  "kernelspec": {
   "display_name": "Python 3 (ipykernel)",
   "language": "python",
   "name": "python3"
  },
  "language_info": {
   "codemirror_mode": {
    "name": "ipython",
    "version": 3
   },
   "file_extension": ".py",
   "mimetype": "text/x-python",
   "name": "python",
   "nbconvert_exporter": "python",
   "pygments_lexer": "ipython3",
   "version": "3.9.18"
  }
 },
 "nbformat": 4,
 "nbformat_minor": 5
}
