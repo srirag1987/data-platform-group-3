{
 "cells": [
  {
   "cell_type": "code",
   "execution_count": 1,
   "id": "f79ff381-0cb3-4788-9ded-d49466e9af6a",
   "metadata": {},
   "outputs": [
    {
     "name": "stderr",
     "output_type": "stream",
     "text": [
      "24/06/02 14:55:20 WARN SparkSession: Using an existing Spark session; only runtime SQL configurations will take effect.\n"
     ]
    },
    {
     "data": {
      "text/html": [
       "\n",
       "            <div>\n",
       "                <p><b>SparkSession - in-memory</b></p>\n",
       "                \n",
       "        <div>\n",
       "            <p><b>SparkContext</b></p>\n",
       "\n",
       "            <p><a href=\"http://606a3a3c126e:4042\">Spark UI</a></p>\n",
       "\n",
       "            <dl>\n",
       "              <dt>Version</dt>\n",
       "                <dd><code>v3.5.1</code></dd>\n",
       "              <dt>Master</dt>\n",
       "                <dd><code>local[*]</code></dd>\n",
       "              <dt>AppName</dt>\n",
       "                <dd><code>PySparkShell</code></dd>\n",
       "            </dl>\n",
       "        </div>\n",
       "        \n",
       "            </div>\n",
       "        "
      ],
      "text/plain": [
       "<pyspark.sql.session.SparkSession at 0x7fc81baa1a30>"
      ]
     },
     "execution_count": 1,
     "metadata": {},
     "output_type": "execute_result"
    }
   ],
   "source": [
    "from pyspark.sql import SparkSession\n",
    "\n",
    "spark = SparkSession.builder \\\n",
    "  .appName(\"demo\") \\\n",
    "  .config(\"spark.deploy.mode\", \"cluster\") \\\n",
    "  .getOrCreate()\n",
    "spark"
   ]
  },
  {
   "cell_type": "code",
   "execution_count": 2,
   "id": "cb1f53da-ccd0-4c3f-9b5e-4bc8961842db",
   "metadata": {},
   "outputs": [
    {
     "data": {
      "text/plain": [
       "6"
      ]
     },
     "execution_count": 2,
     "metadata": {},
     "output_type": "execute_result"
    }
   ],
   "source": [
    "# Define a list of sentences (simulating text data)\n",
    "data = [\"This is a sentence\", \"Another sentence with words\", \"More words to be counted\"]\n",
    "\n",
    "# Parallelize the data into an RDD\n",
    "rdd = spark.sparkContext.parallelize(data)\n",
    "rdd.getNumPartitions()"
   ]
  },
  {
   "cell_type": "code",
   "execution_count": 3,
   "id": "c9dd25df-061c-49ac-b57e-53e5300c1139",
   "metadata": {},
   "outputs": [
    {
     "name": "stderr",
     "output_type": "stream",
     "text": [
      "[Stage 0:=============================>                             (3 + 3) / 6]\r"
     ]
    },
    {
     "name": "stdout",
     "output_type": "stream",
     "text": [
      "[('sentence', 2), ('More', 1), ('to', 1), ('be', 1), ('counted', 1), ('Another', 1), ('with', 1), ('is', 1), ('This', 1), ('a', 1), ('words', 2)]\n"
     ]
    },
    {
     "name": "stderr",
     "output_type": "stream",
     "text": [
      "                                                                                \r"
     ]
    }
   ],
   "source": [
    "# Split each sentence into words\n",
    "words = rdd.flatMap(lambda sentence: sentence.split(\" \"))\n",
    "\n",
    "# Create key-value pairs with (word, 1) for counting\n",
    "word_counts = words.map(lambda word: (word, 1))\n",
    "\n",
    "# ReduceByKey to sum the counts for each word\n",
    "result = word_counts.reduceByKey(lambda x, y: x + y)\n",
    "\n",
    "# Print the word counts\n",
    "print(result.collect())"
   ]
  },
  {
   "cell_type": "code",
   "execution_count": 6,
   "id": "f93d95ee-aff2-401d-8617-864547c9d13c",
   "metadata": {},
   "outputs": [],
   "source": [
    "# Stop SparkSession\n",
    "# spark.stop()"
   ]
  },
  {
   "cell_type": "code",
   "execution_count": null,
   "id": "e92e865a-72de-4991-b227-32a61c7dcd58",
   "metadata": {},
   "outputs": [],
   "source": []
  }
 ],
 "metadata": {
  "kernelspec": {
   "display_name": "Python 3 (ipykernel)",
   "language": "python",
   "name": "python3"
  },
  "language_info": {
   "codemirror_mode": {
    "name": "ipython",
    "version": 3
   },
   "file_extension": ".py",
   "mimetype": "text/x-python",
   "name": "python",
   "nbconvert_exporter": "python",
   "pygments_lexer": "ipython3",
   "version": "3.9.18"
  }
 },
 "nbformat": 4,
 "nbformat_minor": 5
}
