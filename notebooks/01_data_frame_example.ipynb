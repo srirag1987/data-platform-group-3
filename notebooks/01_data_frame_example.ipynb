{
 "cells": [
  {
   "cell_type": "code",
   "execution_count": 9,
   "id": "2aefde82-80ee-4230-bed4-6d6e444316bd",
   "metadata": {},
   "outputs": [
    {
     "data": {
      "text/html": [
       "\n",
       "            <div>\n",
       "                <p><b>SparkSession - in-memory</b></p>\n",
       "                \n",
       "        <div>\n",
       "            <p><b>SparkContext</b></p>\n",
       "\n",
       "            <p><a href=\"http://ad59d612c7dc:4041\">Spark UI</a></p>\n",
       "\n",
       "            <dl>\n",
       "              <dt>Version</dt>\n",
       "                <dd><code>v3.5.1</code></dd>\n",
       "              <dt>Master</dt>\n",
       "                <dd><code>local[*]</code></dd>\n",
       "              <dt>AppName</dt>\n",
       "                <dd><code>PySparkShell</code></dd>\n",
       "            </dl>\n",
       "        </div>\n",
       "        \n",
       "            </div>\n",
       "        "
      ],
      "text/plain": [
       "<pyspark.sql.session.SparkSession at 0x7f5af4951a30>"
      ]
     },
     "execution_count": 9,
     "metadata": {},
     "output_type": "execute_result"
    }
   ],
   "source": [
    "from pyspark.sql import SparkSession\n",
    "from pyspark.sql.functions import col, when, avg\n",
    "spark = SparkSession.builder.appName(\"demo\").config(\"spark.ui.port\", \"4041\").getOrCreate()\n",
    "spark"
   ]
  },
  {
   "cell_type": "code",
   "execution_count": 10,
   "id": "d9d231c3-b402-4852-abc2-fe9e05c4d44c",
   "metadata": {},
   "outputs": [
    {
     "name": "stdout",
     "output_type": "stream",
     "text": [
      "Spark DataFrame\n",
      "+----------+---+\n",
      "|first_name|age|\n",
      "+----------+---+\n",
      "|    Franzi| 25|\n",
      "|    Srirag| 36|\n",
      "|   Nishtha| 26|\n",
      "|      Nico| 24|\n",
      "|     David| 26|\n",
      "+----------+---+\n",
      "\n"
     ]
    }
   ],
   "source": [
    "# Create a Spark DataFrame\n",
    "print(\"Spark DataFrame\")\n",
    "df = spark.createDataFrame(\n",
    "    [\n",
    "        (\"Franzi\", 25),\n",
    "        (\"Srirag\",36),\n",
    "        (\"Nishtha\", 26),\n",
    "        (\"Nico\", 24),\n",
    "        (\"David\", 26)\n",
    "    ],\n",
    "    [\"first_name\", \"age\"],\n",
    ")\n",
    "df.show()"
   ]
  },
  {
   "cell_type": "code",
   "execution_count": 11,
   "id": "467a2777-4541-4296-8188-05419a9b7a09",
   "metadata": {},
   "outputs": [
    {
     "name": "stdout",
     "output_type": "stream",
     "text": [
      "Spark DataFrame with new column Life Stage\n",
      "+----------+---+----------+\n",
      "|first_name|age|life_stage|\n",
      "+----------+---+----------+\n",
      "|    Franzi| 25|  teenager|\n",
      "|    Srirag| 36|     adult|\n",
      "|   Nishtha| 26|     adult|\n",
      "|      Nico| 24|  teenager|\n",
      "|     David| 26|     adult|\n",
      "+----------+---+----------+\n",
      "\n"
     ]
    }
   ],
   "source": [
    "# Add a column to a Spark DataFrame\n",
    "print(\"Spark DataFrame with new column Life Stage\")\n",
    "df1 = df.withColumn(\n",
    "    \"life_stage\",\n",
    "    when(col(\"age\") < 13, \"child\")\n",
    "    .when(col(\"age\").between(13, 25), \"teenager\")\n",
    "    .otherwise(\"adult\"),\n",
    ")\n",
    "df1.show()"
   ]
  },
  {
   "cell_type": "code",
   "execution_count": 12,
   "id": "59e562e5-6363-4668-930e-b0d0a2c50820",
   "metadata": {},
   "outputs": [
    {
     "name": "stdout",
     "output_type": "stream",
     "text": [
      "Filtered DataFrame with only teenagers and adults\n",
      "+----------+---+----------+\n",
      "|first_name|age|life_stage|\n",
      "+----------+---+----------+\n",
      "|    Franzi| 25|  teenager|\n",
      "|    Srirag| 36|     adult|\n",
      "|   Nishtha| 26|     adult|\n",
      "|      Nico| 24|  teenager|\n",
      "|     David| 26|     adult|\n",
      "+----------+---+----------+\n",
      "\n"
     ]
    }
   ],
   "source": [
    "# Filter a Spark DataFrame\n",
    "print(\"Filtered DataFrame with only teenagers and adults\")\n",
    "df1.where(col(\"life_stage\").isin([\"teenager\", \"adult\"])).show()"
   ]
  },
  {
   "cell_type": "code",
   "execution_count": 13,
   "id": "7fc63b5f-c03d-4f10-b29d-6c18fe71cd0f",
   "metadata": {},
   "outputs": [
    {
     "name": "stdout",
     "output_type": "stream",
     "text": [
      "Compute the average age\n",
      "+--------+\n",
      "|avg(age)|\n",
      "+--------+\n",
      "|    27.4|\n",
      "+--------+\n",
      "\n"
     ]
    }
   ],
   "source": [
    "# Group by aggregation on Spark DataFrame\n",
    "print(\"Compute the average age\")\n",
    "df1.select(avg(\"age\")).show()"
   ]
  },
  {
   "cell_type": "code",
   "execution_count": 14,
   "id": "14b6932d-8708-4fd1-8281-7104241ed052",
   "metadata": {},
   "outputs": [
    {
     "name": "stdout",
     "output_type": "stream",
     "text": [
      "Compute average age for life stage\n",
      "+----------+------------------+\n",
      "|life_stage|          avg(age)|\n",
      "+----------+------------------+\n",
      "|  teenager|              24.5|\n",
      "|     adult|29.333333333333332|\n",
      "+----------+------------------+\n",
      "\n"
     ]
    }
   ],
   "source": [
    "print(\"Compute average age for life stage\")\n",
    "df1.groupBy(\"life_stage\").avg().show()"
   ]
  },
  {
   "cell_type": "code",
   "execution_count": 15,
   "id": "b9cd2176-4464-475a-b2df-d18dcf03d586",
   "metadata": {},
   "outputs": [],
   "source": [
    "# spark.stop()"
   ]
  },
  {
   "cell_type": "code",
   "execution_count": null,
   "id": "be06f088-f13e-4500-8751-643817080c36",
   "metadata": {},
   "outputs": [],
   "source": []
  }
 ],
 "metadata": {
  "kernelspec": {
   "display_name": "Python 3 (ipykernel)",
   "language": "python",
   "name": "python3"
  },
  "language_info": {
   "codemirror_mode": {
    "name": "ipython",
    "version": 3
   },
   "file_extension": ".py",
   "mimetype": "text/x-python",
   "name": "python",
   "nbconvert_exporter": "python",
   "pygments_lexer": "ipython3",
   "version": "3.9.18"
  }
 },
 "nbformat": 4,
 "nbformat_minor": 5
}
